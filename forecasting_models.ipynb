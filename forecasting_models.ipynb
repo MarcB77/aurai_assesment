{
 "cells": [
  {
   "cell_type": "markdown",
   "metadata": {},
   "source": [
    "<style>H1{color:deepskyblue;}</style>\n",
    "# Import all necessary packages"
   ]
  },
  {
   "cell_type": "markdown",
   "metadata": {},
   "source": [
    "INSTALL all necessary packages with the use of requirements.txt, execute the command below in your terminal to download/install all packages:</br>\n",
    "`pip install -r requirements.txt`\n",
    "\n",
    "**Configured Python kernel = 3.7.9 64-bit** \n",
    "\n",
    "```diff\n",
    "+ If you have any questions please do not hesitate to contact me: \n",
    "```\n",
    "mblomvliet@gmail.com \n",
    "```diff\n",
    "+ Best,\n",
    "+ Marc Blomvliet\n",
    "```"
   ]
  },
  {
   "cell_type": "code",
   "execution_count": 119,
   "metadata": {},
   "outputs": [],
   "source": [
    "import pandas as pd\n",
    "import seaborn as sns\n",
    "import numpy as np\n",
    "import matplotlib.pyplot as plt\n",
    "import math\n",
    "import pickle\n",
    "\n",
    "from sklearn.model_selection import train_test_split\n",
    "from sklearn.metrics import mean_squared_error, mean_absolute_error, accuracy_score\n",
    "from sklearn import preprocessing \n",
    "\n",
    "from sklearn.linear_model import LogisticRegression\n",
    "from sklearn.tree import DecisionTreeClassifier\n",
    "from sklearn.ensemble import RandomForestClassifier\n",
    "from sklearn.neighbors import KNeighborsClassifier\n",
    "from sklearn.naive_bayes import GaussianNB, CategoricalNB, BernoulliNB\n",
    "from sklearn import svm\n",
    "\n",
    "import keras\n",
    "from keras.models import Model, Sequential\n",
    "from keras.layers import Dense, Dropout, GlobalAveragePooling1D, Input, LSTM, BatchNormalization,InputLayer\n",
    "from tensorflow.keras.optimizers import Adam, SGD\n",
    "from keras.callbacks import EarlyStopping"
   ]
  },
  {
   "cell_type": "code",
   "execution_count": 120,
   "metadata": {},
   "outputs": [
    {
     "name": "stdout",
     "output_type": "stream",
     "text": [
      "173 61069\n"
     ]
    },
    {
     "data": {
      "text/html": [
       "<div>\n",
       "<style scoped>\n",
       "    .dataframe tbody tr th:only-of-type {\n",
       "        vertical-align: middle;\n",
       "    }\n",
       "\n",
       "    .dataframe tbody tr th {\n",
       "        vertical-align: top;\n",
       "    }\n",
       "\n",
       "    .dataframe thead th {\n",
       "        text-align: right;\n",
       "    }\n",
       "</style>\n",
       "<table border=\"1\" class=\"dataframe\">\n",
       "  <thead>\n",
       "    <tr style=\"text-align: right;\">\n",
       "      <th></th>\n",
       "      <th>class</th>\n",
       "      <th>cap-diameter</th>\n",
       "      <th>cap-shape</th>\n",
       "      <th>cap-surface</th>\n",
       "      <th>cap-color</th>\n",
       "      <th>does-bruise-or-bleed</th>\n",
       "      <th>gill-attachment</th>\n",
       "      <th>gill-spacing</th>\n",
       "      <th>gill-color</th>\n",
       "      <th>stem-height</th>\n",
       "      <th>...</th>\n",
       "      <th>stem-root</th>\n",
       "      <th>stem-surface</th>\n",
       "      <th>stem-color</th>\n",
       "      <th>veil-type</th>\n",
       "      <th>veil-color</th>\n",
       "      <th>has-ring</th>\n",
       "      <th>ring-type</th>\n",
       "      <th>spore-print-color</th>\n",
       "      <th>habitat</th>\n",
       "      <th>season</th>\n",
       "    </tr>\n",
       "  </thead>\n",
       "  <tbody>\n",
       "    <tr>\n",
       "      <th>0</th>\n",
       "      <td>p</td>\n",
       "      <td>15.26</td>\n",
       "      <td>x</td>\n",
       "      <td>g</td>\n",
       "      <td>o</td>\n",
       "      <td>f</td>\n",
       "      <td>e</td>\n",
       "      <td>None</td>\n",
       "      <td>w</td>\n",
       "      <td>16.95</td>\n",
       "      <td>...</td>\n",
       "      <td>s</td>\n",
       "      <td>y</td>\n",
       "      <td>w</td>\n",
       "      <td>u</td>\n",
       "      <td>w</td>\n",
       "      <td>t</td>\n",
       "      <td>g</td>\n",
       "      <td>None</td>\n",
       "      <td>d</td>\n",
       "      <td>w</td>\n",
       "    </tr>\n",
       "    <tr>\n",
       "      <th>1</th>\n",
       "      <td>p</td>\n",
       "      <td>16.60</td>\n",
       "      <td>x</td>\n",
       "      <td>g</td>\n",
       "      <td>o</td>\n",
       "      <td>f</td>\n",
       "      <td>e</td>\n",
       "      <td>None</td>\n",
       "      <td>w</td>\n",
       "      <td>17.99</td>\n",
       "      <td>...</td>\n",
       "      <td>s</td>\n",
       "      <td>y</td>\n",
       "      <td>w</td>\n",
       "      <td>u</td>\n",
       "      <td>w</td>\n",
       "      <td>t</td>\n",
       "      <td>g</td>\n",
       "      <td>None</td>\n",
       "      <td>d</td>\n",
       "      <td>u</td>\n",
       "    </tr>\n",
       "    <tr>\n",
       "      <th>2</th>\n",
       "      <td>p</td>\n",
       "      <td>14.07</td>\n",
       "      <td>x</td>\n",
       "      <td>g</td>\n",
       "      <td>o</td>\n",
       "      <td>f</td>\n",
       "      <td>e</td>\n",
       "      <td>None</td>\n",
       "      <td>w</td>\n",
       "      <td>17.80</td>\n",
       "      <td>...</td>\n",
       "      <td>s</td>\n",
       "      <td>y</td>\n",
       "      <td>w</td>\n",
       "      <td>u</td>\n",
       "      <td>w</td>\n",
       "      <td>t</td>\n",
       "      <td>g</td>\n",
       "      <td>None</td>\n",
       "      <td>d</td>\n",
       "      <td>w</td>\n",
       "    </tr>\n",
       "    <tr>\n",
       "      <th>3</th>\n",
       "      <td>p</td>\n",
       "      <td>14.17</td>\n",
       "      <td>f</td>\n",
       "      <td>h</td>\n",
       "      <td>e</td>\n",
       "      <td>f</td>\n",
       "      <td>e</td>\n",
       "      <td>None</td>\n",
       "      <td>w</td>\n",
       "      <td>15.77</td>\n",
       "      <td>...</td>\n",
       "      <td>s</td>\n",
       "      <td>y</td>\n",
       "      <td>w</td>\n",
       "      <td>u</td>\n",
       "      <td>w</td>\n",
       "      <td>t</td>\n",
       "      <td>p</td>\n",
       "      <td>None</td>\n",
       "      <td>d</td>\n",
       "      <td>w</td>\n",
       "    </tr>\n",
       "    <tr>\n",
       "      <th>4</th>\n",
       "      <td>p</td>\n",
       "      <td>14.64</td>\n",
       "      <td>x</td>\n",
       "      <td>h</td>\n",
       "      <td>o</td>\n",
       "      <td>f</td>\n",
       "      <td>e</td>\n",
       "      <td>None</td>\n",
       "      <td>w</td>\n",
       "      <td>16.53</td>\n",
       "      <td>...</td>\n",
       "      <td>s</td>\n",
       "      <td>y</td>\n",
       "      <td>w</td>\n",
       "      <td>u</td>\n",
       "      <td>w</td>\n",
       "      <td>t</td>\n",
       "      <td>p</td>\n",
       "      <td>None</td>\n",
       "      <td>d</td>\n",
       "      <td>w</td>\n",
       "    </tr>\n",
       "  </tbody>\n",
       "</table>\n",
       "<p>5 rows × 21 columns</p>\n",
       "</div>"
      ],
      "text/plain": [
       "  class  cap-diameter cap-shape cap-surface cap-color does-bruise-or-bleed  \\\n",
       "0     p         15.26         x           g         o                    f   \n",
       "1     p         16.60         x           g         o                    f   \n",
       "2     p         14.07         x           g         o                    f   \n",
       "3     p         14.17         f           h         e                    f   \n",
       "4     p         14.64         x           h         o                    f   \n",
       "\n",
       "  gill-attachment gill-spacing gill-color  stem-height  ...  stem-root  \\\n",
       "0               e         None          w        16.95  ...          s   \n",
       "1               e         None          w        17.99  ...          s   \n",
       "2               e         None          w        17.80  ...          s   \n",
       "3               e         None          w        15.77  ...          s   \n",
       "4               e         None          w        16.53  ...          s   \n",
       "\n",
       "  stem-surface stem-color veil-type veil-color has-ring ring-type  \\\n",
       "0            y          w         u          w        t         g   \n",
       "1            y          w         u          w        t         g   \n",
       "2            y          w         u          w        t         g   \n",
       "3            y          w         u          w        t         p   \n",
       "4            y          w         u          w        t         p   \n",
       "\n",
       "  spore-print-color habitat season  \n",
       "0              None       d      w  \n",
       "1              None       d      u  \n",
       "2              None       d      w  \n",
       "3              None       d      w  \n",
       "4              None       d      w  \n",
       "\n",
       "[5 rows x 21 columns]"
      ]
     },
     "execution_count": 120,
     "metadata": {},
     "output_type": "execute_result"
    }
   ],
   "source": [
    "# path to the data parquet file\n",
    "path_primary = \"./data/primary_data.parquet\"\n",
    "path_secondary = \"./data/secondary_data.parquet\"\n",
    "\n",
    "df_primary = pd.read_parquet(path_primary)\n",
    "df_secondary = pd.read_parquet(path_secondary)\n",
    "\n",
    "print(len(df_primary), len(df_secondary))\n",
    "df_secondary.head(5)"
   ]
  },
  {
   "cell_type": "markdown",
   "metadata": {},
   "source": [
    "<style>H1{color:deepskyblue;}</style>\n",
    "# EDA - Exploratory Data Analysis"
   ]
  },
  {
   "cell_type": "code",
   "execution_count": 121,
   "metadata": {},
   "outputs": [
    {
     "name": "stdout",
     "output_type": "stream",
     "text": [
      "['class', 'cap-diameter', 'cap-shape', 'cap-color', 'does-bruise-or-bleed', 'gill-color', 'stem-height', 'stem-width', 'stem-color', 'has-ring', 'habitat', 'season']\n"
     ]
    },
    {
     "data": {
      "image/png": "[encoded data removed]",
      "text/plain": [
       "<Figure size 432x288 with 1 Axes>"
      ]
     },
     "metadata": {
      "needs_background": "light"
     },
     "output_type": "display_data"
    }
   ],
   "source": [
    "'''Plot the features that includes NaN Values.'''\n",
    "df_secondary.isna().sum()[df_secondary.isna().sum()>0].plot(kind='bar')\n",
    "\n",
    "'''Get the features that are complete and don't contain any NaN values.'''\n",
    "complete_features = df_secondary.columns[~df_secondary.isna().any()].tolist() \n",
    "print(complete_features)"
   ]
  },
  {
   "cell_type": "code",
   "execution_count": 122,
   "metadata": {},
   "outputs": [
    {
     "data": {
      "image/png": "[encoded data removed]",
      "text/plain": [
       "<Figure size 432x288 with 1 Axes>"
      ]
     },
     "metadata": {
      "needs_background": "light"
     },
     "output_type": "display_data"
    }
   ],
   "source": [
    "ax = sns.countplot(x=\"class\", data=df_secondary)"
   ]
  },
  {
   "cell_type": "code",
   "execution_count": 123,
   "metadata": {},
   "outputs": [
    {
     "data": {
      "text/plain": [
       "(0.0, 80.0)"
      ]
     },
     "execution_count": 123,
     "metadata": {},
     "output_type": "execute_result"
    },
    {
     "data": {
      "image/png": "[encoded data removed]",
      "text/plain": [
       "<Figure size 432x288 with 1 Axes>"
      ]
     },
     "metadata": {
      "needs_background": "light"
     },
     "output_type": "display_data"
    }
   ],
   "source": [
    "# Boxplot\n",
    "ax = sns.boxplot(x=\"class\", y=\"stem-width\", data=df_secondary)\n",
    "ax.set_ylim([0, 80])"
   ]
  },
  {
   "cell_type": "markdown",
   "metadata": {},
   "source": [
    "<style>H1{color:deepskyblue;}</style>\n",
    "# Feature selection"
   ]
  },
  {
   "cell_type": "code",
   "execution_count": 124,
   "metadata": {},
   "outputs": [
    {
     "name": "stderr",
     "output_type": "stream",
     "text": [
      "/Library/Frameworks/Python.framework/Versions/3.7/lib/python3.7/site-packages/ipykernel_launcher.py:10: SettingWithCopyWarning: \n",
      "A value is trying to be set on a copy of a slice from a DataFrame.\n",
      "Try using .loc[row_indexer,col_indexer] = value instead\n",
      "\n",
      "See the caveats in the documentation: https://pandas.pydata.org/pandas-docs/stable/user_guide/indexing.html#returning-a-view-versus-a-copy\n",
      "  # Remove the CWD from sys.path while we load stuff.\n"
     ]
    },
    {
     "data": {
      "text/html": [
       "<div>\n",
       "<style scoped>\n",
       "    .dataframe tbody tr th:only-of-type {\n",
       "        vertical-align: middle;\n",
       "    }\n",
       "\n",
       "    .dataframe tbody tr th {\n",
       "        vertical-align: top;\n",
       "    }\n",
       "\n",
       "    .dataframe thead th {\n",
       "        text-align: right;\n",
       "    }\n",
       "</style>\n",
       "<table border=\"1\" class=\"dataframe\">\n",
       "  <thead>\n",
       "    <tr style=\"text-align: right;\">\n",
       "      <th></th>\n",
       "      <th>class</th>\n",
       "      <th>cap-diameter</th>\n",
       "      <th>stem-height</th>\n",
       "      <th>stem-width</th>\n",
       "      <th>cap-shape</th>\n",
       "      <th>cap-color</th>\n",
       "      <th>does-bruise-or-bleed</th>\n",
       "      <th>gill-color</th>\n",
       "      <th>stem-color</th>\n",
       "      <th>has-ring</th>\n",
       "      <th>habitat</th>\n",
       "      <th>season</th>\n",
       "      <th>ring-type</th>\n",
       "    </tr>\n",
       "  </thead>\n",
       "  <tbody>\n",
       "    <tr>\n",
       "      <th>0</th>\n",
       "      <td>1</td>\n",
       "      <td>15.26</td>\n",
       "      <td>16.95</td>\n",
       "      <td>17.09</td>\n",
       "      <td>6</td>\n",
       "      <td>6</td>\n",
       "      <td>0</td>\n",
       "      <td>10</td>\n",
       "      <td>11</td>\n",
       "      <td>1</td>\n",
       "      <td>0</td>\n",
       "      <td>3</td>\n",
       "      <td>2</td>\n",
       "    </tr>\n",
       "    <tr>\n",
       "      <th>1</th>\n",
       "      <td>1</td>\n",
       "      <td>16.60</td>\n",
       "      <td>17.99</td>\n",
       "      <td>18.19</td>\n",
       "      <td>6</td>\n",
       "      <td>6</td>\n",
       "      <td>0</td>\n",
       "      <td>10</td>\n",
       "      <td>11</td>\n",
       "      <td>1</td>\n",
       "      <td>0</td>\n",
       "      <td>2</td>\n",
       "      <td>2</td>\n",
       "    </tr>\n",
       "    <tr>\n",
       "      <th>2</th>\n",
       "      <td>1</td>\n",
       "      <td>14.07</td>\n",
       "      <td>17.80</td>\n",
       "      <td>17.74</td>\n",
       "      <td>6</td>\n",
       "      <td>6</td>\n",
       "      <td>0</td>\n",
       "      <td>10</td>\n",
       "      <td>11</td>\n",
       "      <td>1</td>\n",
       "      <td>0</td>\n",
       "      <td>3</td>\n",
       "      <td>2</td>\n",
       "    </tr>\n",
       "    <tr>\n",
       "      <th>3</th>\n",
       "      <td>1</td>\n",
       "      <td>14.17</td>\n",
       "      <td>15.77</td>\n",
       "      <td>15.98</td>\n",
       "      <td>2</td>\n",
       "      <td>1</td>\n",
       "      <td>0</td>\n",
       "      <td>10</td>\n",
       "      <td>11</td>\n",
       "      <td>1</td>\n",
       "      <td>0</td>\n",
       "      <td>3</td>\n",
       "      <td>5</td>\n",
       "    </tr>\n",
       "    <tr>\n",
       "      <th>4</th>\n",
       "      <td>1</td>\n",
       "      <td>14.64</td>\n",
       "      <td>16.53</td>\n",
       "      <td>17.20</td>\n",
       "      <td>6</td>\n",
       "      <td>6</td>\n",
       "      <td>0</td>\n",
       "      <td>10</td>\n",
       "      <td>11</td>\n",
       "      <td>1</td>\n",
       "      <td>0</td>\n",
       "      <td>3</td>\n",
       "      <td>5</td>\n",
       "    </tr>\n",
       "  </tbody>\n",
       "</table>\n",
       "</div>"
      ],
      "text/plain": [
       "   class  cap-diameter  stem-height  stem-width  cap-shape  cap-color  \\\n",
       "0      1         15.26        16.95       17.09          6          6   \n",
       "1      1         16.60        17.99       18.19          6          6   \n",
       "2      1         14.07        17.80       17.74          6          6   \n",
       "3      1         14.17        15.77       15.98          2          1   \n",
       "4      1         14.64        16.53       17.20          6          6   \n",
       "\n",
       "   does-bruise-or-bleed  gill-color  stem-color  has-ring  habitat  season  \\\n",
       "0                     0          10          11         1        0       3   \n",
       "1                     0          10          11         1        0       2   \n",
       "2                     0          10          11         1        0       3   \n",
       "3                     0          10          11         1        0       3   \n",
       "4                     0          10          11         1        0       3   \n",
       "\n",
       "   ring-type  \n",
       "0          2  \n",
       "1          2  \n",
       "2          2  \n",
       "3          5  \n",
       "4          5  "
      ]
     },
     "execution_count": 124,
     "metadata": {},
     "output_type": "execute_result"
    }
   ],
   "source": [
    "'''Decide which features to take into account.'''\n",
    "columns = ['class', 'cap-diameter', 'stem-height', 'stem-width', \n",
    "            'cap-shape','cap-color', 'does-bruise-or-bleed', \n",
    "            'gill-color', 'stem-color', 'has-ring', 'habitat', 'season',\n",
    "            'ring-type']\n",
    "df = df_secondary[columns]\n",
    "le = preprocessing.LabelEncoder() # Transform string into classes\n",
    "for column_name in df.columns: \n",
    "    if df[column_name].dtype != np.float64: \n",
    "        df[column_name] = le.fit_transform(df[column_name])\n",
    "        np.save('./class_encoders/'+column_name+'_encoder.npy', le.classes_)\n",
    "\n",
    "    \n",
    "df = df[df['ring-type'].notnull()]\n",
    "df.head(5)"
   ]
  },
  {
   "cell_type": "code",
   "execution_count": 125,
   "metadata": {},
   "outputs": [
    {
     "name": "stdout",
     "output_type": "stream",
     "text": [
      "<class 'pandas.core.frame.DataFrame'>\n",
      "Int64Index: 61069 entries, 0 to 61068\n",
      "Data columns (total 13 columns):\n",
      " #   Column                Non-Null Count  Dtype  \n",
      "---  ------                --------------  -----  \n",
      " 0   class                 61069 non-null  int64  \n",
      " 1   cap-diameter          61069 non-null  float64\n",
      " 2   stem-height           61069 non-null  float64\n",
      " 3   stem-width            61069 non-null  float64\n",
      " 4   cap-shape             61069 non-null  int64  \n",
      " 5   cap-color             61069 non-null  int64  \n",
      " 6   does-bruise-or-bleed  61069 non-null  int64  \n",
      " 7   gill-color            61069 non-null  int64  \n",
      " 8   stem-color            61069 non-null  int64  \n",
      " 9   has-ring              61069 non-null  int64  \n",
      " 10  habitat               61069 non-null  int64  \n",
      " 11  season                61069 non-null  int64  \n",
      " 12  ring-type             61069 non-null  int64  \n",
      "dtypes: float64(3), int64(10)\n",
      "memory usage: 6.5 MB\n"
     ]
    }
   ],
   "source": [
    "df.info()"
   ]
  },
  {
   "cell_type": "markdown",
   "metadata": {},
   "source": [
    "<style>H1{color:deepskyblue;}</style>\n",
    "# Modeling"
   ]
  },
  {
   "cell_type": "code",
   "execution_count": 126,
   "metadata": {},
   "outputs": [],
   "source": [
    "X = df.drop(['class'],axis = 1) # Deselect target to predict\n",
    "y = df[['class']] # Select target to predict\n",
    "\n",
    "X_feature_importance = X # Save the dataframe to determine the feature importance after training\n",
    "X = np.asarray(X).astype(np.float32) # Transform in the correct format, in order to train the models\n",
    "y = np.asarray(y).astype(np.float32) # Transform in the correct format, in order to train the models\n",
    "\n",
    "# 72% train, 7% test and 20% validation\n",
    "X_train, X_val, y_train, y_val = train_test_split(X, y, test_size=0.2, random_state=42)\n",
    "X_train, X_test, y_train, y_test = train_test_split(X_train, y_train, test_size=0.1, random_state=42)"
   ]
  },
  {
   "cell_type": "code",
   "execution_count": 127,
   "metadata": {},
   "outputs": [],
   "source": [
    "class all_models:\n",
    "    def __init__(self, X, Y):\n",
    "        self.Xtrain = X\n",
    "        self.Ytrain = Y\n",
    "        \n",
    "    def Neural_Network(self):\n",
    "        model = Sequential()\n",
    "        model.add(Dense(258, input_dim=self.Xtrain.shape[1], activation='relu'))\n",
    "        model.add(Dense(258, activation='relu'))\n",
    "        model.add(Dense(1, activation='sigmoid'))\n",
    "        model.compile(optimizer='adam', loss = 'binary_crossentropy', metrics = 'accuracy') # Compile model\n",
    "        return model"
   ]
  },
  {
   "cell_type": "code",
   "execution_count": 128,
   "metadata": {},
   "outputs": [
    {
     "name": "stdout",
     "output_type": "stream",
     "text": [
      "Epoch 1/40\n",
      "688/688 - 2s - loss: 0.4558 - accuracy: 0.7722 - val_loss: 0.3128 - val_accuracy: 0.8636\n",
      "Epoch 2/40\n",
      "688/688 - 2s - loss: 0.2499 - accuracy: 0.8948 - val_loss: 0.2339 - val_accuracy: 0.9009\n",
      "Epoch 3/40\n",
      "688/688 - 2s - loss: 0.1680 - accuracy: 0.9362 - val_loss: 0.1430 - val_accuracy: 0.9432\n",
      "Epoch 4/40\n",
      "688/688 - 2s - loss: 0.1278 - accuracy: 0.9533 - val_loss: 0.1182 - val_accuracy: 0.9542\n",
      "Epoch 5/40\n",
      "688/688 - 2s - loss: 0.1078 - accuracy: 0.9608 - val_loss: 0.1059 - val_accuracy: 0.9574\n",
      "Epoch 6/40\n",
      "688/688 - 2s - loss: 0.0910 - accuracy: 0.9677 - val_loss: 0.0802 - val_accuracy: 0.9713\n",
      "Epoch 7/40\n",
      "688/688 - 2s - loss: 0.0769 - accuracy: 0.9731 - val_loss: 0.0865 - val_accuracy: 0.9643\n",
      "Epoch 8/40\n",
      "688/688 - 2s - loss: 0.0712 - accuracy: 0.9749 - val_loss: 0.0825 - val_accuracy: 0.9713\n",
      "Epoch 9/40\n",
      "688/688 - 2s - loss: 0.0689 - accuracy: 0.9746 - val_loss: 0.0699 - val_accuracy: 0.9753\n",
      "Epoch 10/40\n",
      "688/688 - 2s - loss: 0.0610 - accuracy: 0.9788 - val_loss: 0.0661 - val_accuracy: 0.9739\n",
      "Epoch 11/40\n",
      "688/688 - 2s - loss: 0.0543 - accuracy: 0.9817 - val_loss: 0.0501 - val_accuracy: 0.9824\n",
      "Epoch 12/40\n",
      "688/688 - 2s - loss: 0.0502 - accuracy: 0.9824 - val_loss: 0.0646 - val_accuracy: 0.9779\n",
      "Epoch 13/40\n",
      "688/688 - 2s - loss: 0.0468 - accuracy: 0.9836 - val_loss: 0.0435 - val_accuracy: 0.9865\n",
      "Epoch 14/40\n",
      "688/688 - 2s - loss: 0.0491 - accuracy: 0.9836 - val_loss: 0.0631 - val_accuracy: 0.9773\n",
      "Epoch 15/40\n",
      "688/688 - 2s - loss: 0.0442 - accuracy: 0.9840 - val_loss: 0.0633 - val_accuracy: 0.9755\n",
      "Epoch 16/40\n",
      "688/688 - 2s - loss: 0.0428 - accuracy: 0.9854 - val_loss: 0.0409 - val_accuracy: 0.9851\n",
      "Epoch 17/40\n",
      "688/688 - 2s - loss: 0.0381 - accuracy: 0.9863 - val_loss: 0.0499 - val_accuracy: 0.9827\n",
      "Epoch 18/40\n",
      "688/688 - 2s - loss: 0.0416 - accuracy: 0.9863 - val_loss: 0.0382 - val_accuracy: 0.9858\n",
      "Epoch 19/40\n",
      "688/688 - 2s - loss: 0.0348 - accuracy: 0.9882 - val_loss: 0.0385 - val_accuracy: 0.9860\n",
      "Epoch 20/40\n",
      "688/688 - 2s - loss: 0.0381 - accuracy: 0.9871 - val_loss: 0.0364 - val_accuracy: 0.9869\n",
      "Epoch 21/40\n",
      "688/688 - 2s - loss: 0.0354 - accuracy: 0.9877 - val_loss: 0.0374 - val_accuracy: 0.9874\n",
      "Epoch 22/40\n",
      "688/688 - 2s - loss: 0.0347 - accuracy: 0.9879 - val_loss: 0.0401 - val_accuracy: 0.9860\n",
      "Epoch 23/40\n",
      "688/688 - 2s - loss: 0.0337 - accuracy: 0.9884 - val_loss: 0.0521 - val_accuracy: 0.9805\n",
      "Epoch 24/40\n",
      "688/688 - 2s - loss: 0.0310 - accuracy: 0.9891 - val_loss: 0.0356 - val_accuracy: 0.9886\n",
      "Epoch 25/40\n",
      "688/688 - 2s - loss: 0.0338 - accuracy: 0.9884 - val_loss: 0.0273 - val_accuracy: 0.9905\n",
      "Epoch 26/40\n",
      "688/688 - 2s - loss: 0.0306 - accuracy: 0.9894 - val_loss: 0.0337 - val_accuracy: 0.9890\n",
      "Epoch 27/40\n",
      "688/688 - 2s - loss: 0.0253 - accuracy: 0.9913 - val_loss: 0.0348 - val_accuracy: 0.9871\n",
      "Epoch 28/40\n",
      "688/688 - 2s - loss: 0.0256 - accuracy: 0.9914 - val_loss: 0.0375 - val_accuracy: 0.9867\n",
      "Epoch 29/40\n",
      "688/688 - 2s - loss: 0.0284 - accuracy: 0.9905 - val_loss: 0.0695 - val_accuracy: 0.9780\n",
      "Epoch 30/40\n",
      "688/688 - 2s - loss: 0.0269 - accuracy: 0.9913 - val_loss: 0.0384 - val_accuracy: 0.9869\n",
      "Epoch 31/40\n",
      "688/688 - 2s - loss: 0.0248 - accuracy: 0.9910 - val_loss: 0.0438 - val_accuracy: 0.9858\n",
      "Epoch 32/40\n",
      "688/688 - 2s - loss: 0.0421 - accuracy: 0.9862 - val_loss: 0.0333 - val_accuracy: 0.9889\n",
      "Epoch 33/40\n",
      "688/688 - 2s - loss: 0.0236 - accuracy: 0.9918 - val_loss: 0.0325 - val_accuracy: 0.9888\n",
      "Epoch 34/40\n",
      "688/688 - 2s - loss: 0.0239 - accuracy: 0.9918 - val_loss: 0.0376 - val_accuracy: 0.9869\n",
      "Epoch 35/40\n",
      "688/688 - 2s - loss: 0.0262 - accuracy: 0.9909 - val_loss: 0.0341 - val_accuracy: 0.9880\n",
      "Epoch 36/40\n",
      "688/688 - 2s - loss: 0.0222 - accuracy: 0.9925 - val_loss: 0.0318 - val_accuracy: 0.9900\n",
      "Epoch 37/40\n",
      "688/688 - 2s - loss: 0.0210 - accuracy: 0.9931 - val_loss: 0.0411 - val_accuracy: 0.9867\n",
      "Epoch 38/40\n",
      "688/688 - 2s - loss: 0.0258 - accuracy: 0.9910 - val_loss: 0.0311 - val_accuracy: 0.9897\n",
      "Epoch 39/40\n",
      "688/688 - 2s - loss: 0.0268 - accuracy: 0.9905 - val_loss: 0.0291 - val_accuracy: 0.9902\n",
      "Epoch 40/40\n",
      "688/688 - 2s - loss: 0.0190 - accuracy: 0.9935 - val_loss: 0.0263 - val_accuracy: 0.9908\n"
     ]
    },
    {
     "data": {
      "image/png": "[encoded data removed]",
      "text/plain": [
       "<Figure size 432x288 with 1 Axes>"
      ]
     },
     "metadata": {
      "needs_background": "light"
     },
     "output_type": "display_data"
    }
   ],
   "source": [
    "'''Train models'''\n",
    "models = all_models(X_train,y_train)\n",
    "\n",
    "NN = models.Neural_Network()\n",
    "NN_model = NN.fit(x=X_train,y=y_train,\n",
    "          validation_data=(X_val, y_val),\n",
    "          batch_size=64,epochs=40,verbose=2)\n",
    "losses = pd.DataFrame(NN.history.history)\n",
    "losses.plot()\n",
    "\n",
    "Pre_models = {}\n",
    "Pre_models[\"LogisticRegression\"]={\"model\":LogisticRegression()}\n",
    "Pre_models[\"DecisionTreeClassifier\"]={\"model\":DecisionTreeClassifier()}\n",
    "Pre_models[\"RandomForestClassifier\"]={\"model\":RandomForestClassifier()}\n",
    "Pre_models[\"KNB_GaussianNB\"]={\"model\":GaussianNB()}\n",
    "Pre_models[\"KNB_CategoricalNB\"]={\"model\":CategoricalNB()}\n",
    "Pre_models[\"BernoulliNB\"]={\"model\":BernoulliNB()}\n",
    "\n",
    "for name,model in Pre_models.items():\n",
    "    model[\"model\"].fit(X_train,y_train.ravel())"
   ]
  },
  {
   "cell_type": "markdown",
   "metadata": {},
   "source": [
    "<style>H2{color:grey;}</style>\n",
    "<style>H1{color:deepskyblue;}</style>\n",
    "# Evaluation\n",
    "## Model accuracy's"
   ]
  },
  {
   "cell_type": "code",
   "execution_count": 129,
   "metadata": {},
   "outputs": [
    {
     "name": "stdout",
     "output_type": "stream",
     "text": [
      "NN Accuracy =  99.284%\n",
      "LogisticRegression Accuracy =  62.567%\n",
      "DecisionTreeClassifier Accuracy =  98.731%\n",
      "RandomForestClassifier Accuracy =  99.611%\n",
      "KNB_GaussianNB Accuracy =  59.415%\n",
      "KNB_CategoricalNB Accuracy =  73.148%\n",
      "BernoulliNB Accuracy =  59.026%\n"
     ]
    }
   ],
   "source": [
    "pred= NN.predict(X_test)\n",
    "pred = np.round(pred)\n",
    "score = accuracy_score(y_test, pred)\n",
    "print('NN', 'Accuracy =  {:.3f}%'.format(score*100))\n",
    "\n",
    "for model_name, model in Pre_models.items():\n",
    "    model = Pre_models[model_name][\"model\"]\n",
    "    pred= model.predict(X_test)\n",
    "    try:\n",
    "        score = accuracy_score(y_test, pred)\n",
    "        print(model_name, 'Accuracy =  {:.3f}%'.format(score*100))\n",
    "    except:\n",
    "        pass"
   ]
  },
  {
   "cell_type": "markdown",
   "metadata": {},
   "source": [
    "<style>H2{color:grey;}</style>\n",
    "## Feature Importances"
   ]
  },
  {
   "cell_type": "code",
   "execution_count": 130,
   "metadata": {},
   "outputs": [
    {
     "data": {
      "image/png": "[encoded data removed]",
      "text/plain": [
       "<Figure size 432x288 with 1 Axes>"
      ]
     },
     "metadata": {
      "needs_background": "light"
     },
     "output_type": "display_data"
    }
   ],
   "source": [
    "'''Plot the feature importances (correlation to the target: UnitSales). '''\n",
    "model = Pre_models[\"RandomForestClassifier\"][\"model\"]\n",
    "ypred= model.predict(X_test)\n",
    "importances = pd.DataFrame(data={\n",
    "    'Attribute': X_feature_importance.columns,\n",
    "    'Importance': model.feature_importances_\n",
    "})\n",
    "importances = importances.sort_values(by='Importance', ascending=False)\n",
    "\n",
    "plt.bar(x=importances['Attribute'], height=importances['Importance'], color='#087E8B')\n",
    "plt.title('Feature importances \\nObtained from coefficients', size=20)\n",
    "plt.xticks(rotation='45', ha='right')\n",
    "plt.show()"
   ]
  },
  {
   "cell_type": "markdown",
   "metadata": {},
   "source": [
    "Results without NaN fill: </br>\n",
    "NN Accuracy =  89.787% </br>\n",
    "LogisticRegression Accuracy =  60.233% </br>\n",
    "DecisionTreeClassifier Accuracy =  98.158% </br>\n",
    "RandomForestClassifier Accuracy =  99.632% </br>\n",
    "KNB_GaussianNB Accuracy =  61.339% </br>\n",
    "KNB_CategoricalNB Accuracy =  69.382% </br>\n",
    "BernoulliNB Accuracy =  59.026% </br>"
   ]
  },
  {
   "cell_type": "markdown",
   "metadata": {},
   "source": [
    "<style>H1{color:deepskyblue;}</style>\n",
    "# Save models"
   ]
  },
  {
   "cell_type": "code",
   "execution_count": 131,
   "metadata": {},
   "outputs": [],
   "source": [
    "def save_models(model, name_algorithm=''):\n",
    "    filename = './models/'+name_algorithm+'.pkl'\n",
    "    pickle.dump(model, open(filename, 'wb'))"
   ]
  },
  {
   "cell_type": "code",
   "execution_count": 132,
   "metadata": {},
   "outputs": [],
   "source": [
    "NN.save('./models/neural_network_MLP.h5') # Keras model (neural network), needs to be saved as a .h5 file. Predescribed by Keras\n",
    "for model_name, trained_model in Pre_models.items():\n",
    "    model_ = Pre_models[model_name][\"model\"]\n",
    "    save_models(model_, name_algorithm = model_name)"
   ]
  }
 ],
 "metadata": {
  "kernelspec": {
   "display_name": "Python 3.7.9 64-bit",
   "language": "python",
   "name": "python3"
  },
  "language_info": {
   "codemirror_mode": {
    "name": "ipython",
    "version": 3
   },
   "file_extension": ".py",
   "mimetype": "text/x-python",
   "name": "python",
   "nbconvert_exporter": "python",
   "pygments_lexer": "ipython3",
   "version": "3.7.9"
  },
  "orig_nbformat": 4,
  "vscode": {
   "interpreter": {
    "hash": "aee8b7b246df8f9039afb4144a1f6fd8d2ca17a180786b69acc140d282b71a49"
   }
  }
 },
 "nbformat": 4,
 "nbformat_minor": 2
}
